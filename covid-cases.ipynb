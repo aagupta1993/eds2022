{
 "cells": [
  {
   "cell_type": "markdown",
   "metadata": {},
   "source": [
    "# Step 1 : Installing and Importing all Required Libraries"
   ]
  },
  {
   "cell_type": "code",
   "execution_count": 2,
   "metadata": {
    "scrolled": false
   },
   "outputs": [
    {
     "name": "stdout",
     "output_type": "stream",
     "text": [
      "Requirement already satisfied: plotly in /opt/anaconda3/lib/python3.8/site-packages (5.9.0)\n",
      "Requirement already satisfied: tenacity>=6.2.0 in /opt/anaconda3/lib/python3.8/site-packages (from plotly) (8.0.1)\n",
      "Note: you may need to restart the kernel to use updated packages.\n"
     ]
    }
   ],
   "source": [
    "pip install plotly\n"
   ]
  },
  {
   "cell_type": "code",
   "execution_count": 3,
   "metadata": {},
   "outputs": [
    {
     "name": "stdout",
     "output_type": "stream",
     "text": [
      "Requirement already satisfied: dash in /opt/anaconda3/lib/python3.8/site-packages (2.5.1)\n",
      "Requirement already satisfied: dash-core-components==2.0.0 in /opt/anaconda3/lib/python3.8/site-packages (from dash) (2.0.0)\n",
      "Requirement already satisfied: flask-compress in /opt/anaconda3/lib/python3.8/site-packages (from dash) (1.12)\n",
      "Requirement already satisfied: plotly>=5.0.0 in /opt/anaconda3/lib/python3.8/site-packages (from dash) (5.9.0)\n",
      "Requirement already satisfied: Flask>=1.0.4 in /opt/anaconda3/lib/python3.8/site-packages (from dash) (1.1.2)\n",
      "Requirement already satisfied: dash-table==5.0.0 in /opt/anaconda3/lib/python3.8/site-packages (from dash) (5.0.0)\n",
      "Requirement already satisfied: dash-html-components==2.0.0 in /opt/anaconda3/lib/python3.8/site-packages (from dash) (2.0.0)\n",
      "Requirement already satisfied: itsdangerous>=0.24 in /opt/anaconda3/lib/python3.8/site-packages (from Flask>=1.0.4->dash) (1.1.0)\n",
      "Requirement already satisfied: Jinja2>=2.10.1 in /opt/anaconda3/lib/python3.8/site-packages (from Flask>=1.0.4->dash) (2.11.2)\n",
      "Requirement already satisfied: Werkzeug>=0.15 in /opt/anaconda3/lib/python3.8/site-packages (from Flask>=1.0.4->dash) (1.0.1)\n",
      "Requirement already satisfied: click>=5.1 in /opt/anaconda3/lib/python3.8/site-packages (from Flask>=1.0.4->dash) (7.1.2)\n",
      "Requirement already satisfied: MarkupSafe>=0.23 in /opt/anaconda3/lib/python3.8/site-packages (from Jinja2>=2.10.1->Flask>=1.0.4->dash) (1.1.1)\n",
      "Requirement already satisfied: tenacity>=6.2.0 in /opt/anaconda3/lib/python3.8/site-packages (from plotly>=5.0.0->dash) (8.0.1)\n",
      "Requirement already satisfied: brotli in /opt/anaconda3/lib/python3.8/site-packages (from flask-compress->dash) (1.0.9)\n",
      "Note: you may need to restart the kernel to use updated packages.\n"
     ]
    }
   ],
   "source": [
    "pip install dash"
   ]
  },
  {
   "cell_type": "code",
   "execution_count": 4,
   "metadata": {},
   "outputs": [
    {
     "name": "stderr",
     "output_type": "stream",
     "text": [
      "<ipython-input-4-a982d80d63dd>:16: UserWarning: \n",
      "The dash_core_components package is deprecated. Please replace\n",
      "`import dash_core_components as dcc` with `from dash import dcc`\n",
      "  import dash_core_components as dcc\n",
      "<ipython-input-4-a982d80d63dd>:17: UserWarning: \n",
      "The dash_html_components package is deprecated. Please replace\n",
      "`import dash_html_components as html` with `from dash import html`\n",
      "  import dash_html_components as html\n"
     ]
    }
   ],
   "source": [
    "#Importing all required plots and tools required for plotting.\n",
    "import pandas as pd\n",
    "import numpy as np\n",
    "import matplotlib.pyplot as plt\n",
    "import requests\n",
    "from bs4 import BeautifulSoup\n",
    "import json\n",
    "from datetime import datetime\n",
    "%matplotlib inline\n",
    "import matplotlib as mpl\n",
    "import seaborn as sns\n",
    "import plotly.graph_objects as go\n",
    "import plotly\n",
    "plotly.__version__\n",
    "import dash\n",
    "import dash_core_components as dcc\n",
    "import dash_html_components as html"
   ]
  },
  {
   "cell_type": "markdown",
   "metadata": {},
   "source": [
    "# Setting the seaborn style to darkgrid"
   ]
  },
  {
   "cell_type": "code",
   "execution_count": 5,
   "metadata": {},
   "outputs": [],
   "source": [
    "mpl.rcParams['figure.figsize']=(16,9)\n",
    "pd.set_option('display.max_rows',500)\n",
    "sns.set(style=\"darkgrid\")"
   ]
  },
  {
   "cell_type": "markdown",
   "metadata": {},
   "source": [
    "# Step 2: Importing the Corona Cases Data from John Hopkins Data Set"
   ]
  },
  {
   "cell_type": "code",
   "execution_count": 6,
   "metadata": {},
   "outputs": [
    {
     "data": {
      "text/html": [
       "<div>\n",
       "<style scoped>\n",
       "    .dataframe tbody tr th:only-of-type {\n",
       "        vertical-align: middle;\n",
       "    }\n",
       "\n",
       "    .dataframe tbody tr th {\n",
       "        vertical-align: top;\n",
       "    }\n",
       "\n",
       "    .dataframe thead th {\n",
       "        text-align: right;\n",
       "    }\n",
       "</style>\n",
       "<table border=\"1\" class=\"dataframe\">\n",
       "  <thead>\n",
       "    <tr style=\"text-align: right;\">\n",
       "      <th></th>\n",
       "      <th>Province/State</th>\n",
       "      <th>Country/Region</th>\n",
       "      <th>Lat</th>\n",
       "      <th>Long</th>\n",
       "      <th>1/22/20</th>\n",
       "      <th>1/23/20</th>\n",
       "      <th>1/24/20</th>\n",
       "      <th>1/25/20</th>\n",
       "      <th>1/26/20</th>\n",
       "      <th>1/27/20</th>\n",
       "      <th>...</th>\n",
       "      <th>6/16/22</th>\n",
       "      <th>6/17/22</th>\n",
       "      <th>6/18/22</th>\n",
       "      <th>6/19/22</th>\n",
       "      <th>6/20/22</th>\n",
       "      <th>6/21/22</th>\n",
       "      <th>6/22/22</th>\n",
       "      <th>6/23/22</th>\n",
       "      <th>6/24/22</th>\n",
       "      <th>6/25/22</th>\n",
       "    </tr>\n",
       "  </thead>\n",
       "  <tbody>\n",
       "    <tr>\n",
       "      <th>0</th>\n",
       "      <td>NaN</td>\n",
       "      <td>Afghanistan</td>\n",
       "      <td>33.93911</td>\n",
       "      <td>67.709953</td>\n",
       "      <td>0</td>\n",
       "      <td>0</td>\n",
       "      <td>0</td>\n",
       "      <td>0</td>\n",
       "      <td>0</td>\n",
       "      <td>0</td>\n",
       "      <td>...</td>\n",
       "      <td>181465</td>\n",
       "      <td>181534</td>\n",
       "      <td>181574</td>\n",
       "      <td>181666</td>\n",
       "      <td>181725</td>\n",
       "      <td>181808</td>\n",
       "      <td>181912</td>\n",
       "      <td>181987</td>\n",
       "      <td>182033</td>\n",
       "      <td>182072</td>\n",
       "    </tr>\n",
       "    <tr>\n",
       "      <th>1</th>\n",
       "      <td>NaN</td>\n",
       "      <td>Albania</td>\n",
       "      <td>41.15330</td>\n",
       "      <td>20.168300</td>\n",
       "      <td>0</td>\n",
       "      <td>0</td>\n",
       "      <td>0</td>\n",
       "      <td>0</td>\n",
       "      <td>0</td>\n",
       "      <td>0</td>\n",
       "      <td>...</td>\n",
       "      <td>276821</td>\n",
       "      <td>277141</td>\n",
       "      <td>277141</td>\n",
       "      <td>277409</td>\n",
       "      <td>277444</td>\n",
       "      <td>277663</td>\n",
       "      <td>277940</td>\n",
       "      <td>278211</td>\n",
       "      <td>278504</td>\n",
       "      <td>278793</td>\n",
       "    </tr>\n",
       "    <tr>\n",
       "      <th>2</th>\n",
       "      <td>NaN</td>\n",
       "      <td>Algeria</td>\n",
       "      <td>28.03390</td>\n",
       "      <td>1.659600</td>\n",
       "      <td>0</td>\n",
       "      <td>0</td>\n",
       "      <td>0</td>\n",
       "      <td>0</td>\n",
       "      <td>0</td>\n",
       "      <td>0</td>\n",
       "      <td>...</td>\n",
       "      <td>265964</td>\n",
       "      <td>265968</td>\n",
       "      <td>265971</td>\n",
       "      <td>265975</td>\n",
       "      <td>265985</td>\n",
       "      <td>265993</td>\n",
       "      <td>266006</td>\n",
       "      <td>266015</td>\n",
       "      <td>266025</td>\n",
       "      <td>266030</td>\n",
       "    </tr>\n",
       "    <tr>\n",
       "      <th>3</th>\n",
       "      <td>NaN</td>\n",
       "      <td>Andorra</td>\n",
       "      <td>42.50630</td>\n",
       "      <td>1.521800</td>\n",
       "      <td>0</td>\n",
       "      <td>0</td>\n",
       "      <td>0</td>\n",
       "      <td>0</td>\n",
       "      <td>0</td>\n",
       "      <td>0</td>\n",
       "      <td>...</td>\n",
       "      <td>43449</td>\n",
       "      <td>43449</td>\n",
       "      <td>43449</td>\n",
       "      <td>43449</td>\n",
       "      <td>43449</td>\n",
       "      <td>43449</td>\n",
       "      <td>43774</td>\n",
       "      <td>43774</td>\n",
       "      <td>43774</td>\n",
       "      <td>43774</td>\n",
       "    </tr>\n",
       "    <tr>\n",
       "      <th>4</th>\n",
       "      <td>NaN</td>\n",
       "      <td>Angola</td>\n",
       "      <td>-11.20270</td>\n",
       "      <td>17.873900</td>\n",
       "      <td>0</td>\n",
       "      <td>0</td>\n",
       "      <td>0</td>\n",
       "      <td>0</td>\n",
       "      <td>0</td>\n",
       "      <td>0</td>\n",
       "      <td>...</td>\n",
       "      <td>99761</td>\n",
       "      <td>99761</td>\n",
       "      <td>99761</td>\n",
       "      <td>99761</td>\n",
       "      <td>99761</td>\n",
       "      <td>99761</td>\n",
       "      <td>99761</td>\n",
       "      <td>99761</td>\n",
       "      <td>99761</td>\n",
       "      <td>99761</td>\n",
       "    </tr>\n",
       "  </tbody>\n",
       "</table>\n",
       "<p>5 rows × 890 columns</p>\n",
       "</div>"
      ],
      "text/plain": [
       "  Province/State Country/Region       Lat       Long  1/22/20  1/23/20  \\\n",
       "0            NaN    Afghanistan  33.93911  67.709953        0        0   \n",
       "1            NaN        Albania  41.15330  20.168300        0        0   \n",
       "2            NaN        Algeria  28.03390   1.659600        0        0   \n",
       "3            NaN        Andorra  42.50630   1.521800        0        0   \n",
       "4            NaN         Angola -11.20270  17.873900        0        0   \n",
       "\n",
       "   1/24/20  1/25/20  1/26/20  1/27/20  ...  6/16/22  6/17/22  6/18/22  \\\n",
       "0        0        0        0        0  ...   181465   181534   181574   \n",
       "1        0        0        0        0  ...   276821   277141   277141   \n",
       "2        0        0        0        0  ...   265964   265968   265971   \n",
       "3        0        0        0        0  ...    43449    43449    43449   \n",
       "4        0        0        0        0  ...    99761    99761    99761   \n",
       "\n",
       "   6/19/22  6/20/22  6/21/22  6/22/22  6/23/22  6/24/22  6/25/22  \n",
       "0   181666   181725   181808   181912   181987   182033   182072  \n",
       "1   277409   277444   277663   277940   278211   278504   278793  \n",
       "2   265975   265985   265993   266006   266015   266025   266030  \n",
       "3    43449    43449    43449    43774    43774    43774    43774  \n",
       "4    99761    99761    99761    99761    99761    99761    99761  \n",
       "\n",
       "[5 rows x 890 columns]"
      ]
     },
     "execution_count": 6,
     "metadata": {},
     "output_type": "execute_result"
    }
   ],
   "source": [
    "#Importing raw covid cases data\n",
    "data_path='../Task01/COVID-19-master/csse_covid_19_data/csse_covid_19_time_series/time_series_covid19_confirmed_global.csv'\n",
    "df_raw=pd.read_csv(data_path)\n",
    "df_raw.head()\n"
   ]
  },
  {
   "cell_type": "markdown",
   "metadata": {},
   "source": [
    "# Step 3: Understanding the Data and preparation required for plotting of Covid Cases over time"
   ]
  },
  {
   "cell_type": "code",
   "execution_count": 7,
   "metadata": {},
   "outputs": [
    {
     "data": {
      "text/plain": [
       "Index(['1/22/20', '1/23/20', '1/24/20', '1/25/20', '1/26/20', '1/27/20',\n",
       "       '1/28/20', '1/29/20', '1/30/20', '1/31/20',\n",
       "       ...\n",
       "       '6/16/22', '6/17/22', '6/18/22', '6/19/22', '6/20/22', '6/21/22',\n",
       "       '6/22/22', '6/23/22', '6/24/22', '6/25/22'],\n",
       "      dtype='object', length=886)"
      ]
     },
     "execution_count": 7,
     "metadata": {},
     "output_type": "execute_result"
    }
   ],
   "source": [
    "time_idx = df_raw.columns[4:]\n",
    "time_idx"
   ]
  },
  {
   "cell_type": "code",
   "execution_count": 8,
   "metadata": {},
   "outputs": [
    {
     "data": {
      "text/html": [
       "<div>\n",
       "<style scoped>\n",
       "    .dataframe tbody tr th:only-of-type {\n",
       "        vertical-align: middle;\n",
       "    }\n",
       "\n",
       "    .dataframe tbody tr th {\n",
       "        vertical-align: top;\n",
       "    }\n",
       "\n",
       "    .dataframe thead th {\n",
       "        text-align: right;\n",
       "    }\n",
       "</style>\n",
       "<table border=\"1\" class=\"dataframe\">\n",
       "  <thead>\n",
       "    <tr style=\"text-align: right;\">\n",
       "      <th></th>\n",
       "      <th>date</th>\n",
       "    </tr>\n",
       "  </thead>\n",
       "  <tbody>\n",
       "    <tr>\n",
       "      <th>0</th>\n",
       "      <td>1/22/20</td>\n",
       "    </tr>\n",
       "    <tr>\n",
       "      <th>1</th>\n",
       "      <td>1/23/20</td>\n",
       "    </tr>\n",
       "    <tr>\n",
       "      <th>2</th>\n",
       "      <td>1/24/20</td>\n",
       "    </tr>\n",
       "    <tr>\n",
       "      <th>3</th>\n",
       "      <td>1/25/20</td>\n",
       "    </tr>\n",
       "    <tr>\n",
       "      <th>4</th>\n",
       "      <td>1/26/20</td>\n",
       "    </tr>\n",
       "  </tbody>\n",
       "</table>\n",
       "</div>"
      ],
      "text/plain": [
       "      date\n",
       "0  1/22/20\n",
       "1  1/23/20\n",
       "2  1/24/20\n",
       "3  1/25/20\n",
       "4  1/26/20"
      ]
     },
     "execution_count": 8,
     "metadata": {},
     "output_type": "execute_result"
    }
   ],
   "source": [
    "df_plot = pd.DataFrame({\n",
    "    'date':time_idx\n",
    "})\n",
    "df_plot.head()"
   ]
  },
  {
   "cell_type": "code",
   "execution_count": 9,
   "metadata": {},
   "outputs": [
    {
     "data": {
      "text/plain": [
       "199"
      ]
     },
     "execution_count": 9,
     "metadata": {},
     "output_type": "execute_result"
    }
   ],
   "source": [
    "len(df_raw['Country/Region'].unique())"
   ]
  },
  {
   "cell_type": "code",
   "execution_count": 10,
   "metadata": {},
   "outputs": [
    {
     "data": {
      "text/plain": [
       "1/22/20    0\n",
       "1/23/20    0\n",
       "1/24/20    0\n",
       "1/25/20    0\n",
       "dtype: int64"
      ]
     },
     "execution_count": 10,
     "metadata": {},
     "output_type": "execute_result"
    }
   ],
   "source": [
    "df_raw[df_raw['Country/Region']=='India'].iloc[:,4::].sum(axis=0)[0:4]"
   ]
  },
  {
   "cell_type": "code",
   "execution_count": 11,
   "metadata": {},
   "outputs": [],
   "source": [
    "country_list=['India',\n",
    "             'Germany',\n",
    "              'China']"
   ]
  },
  {
   "cell_type": "code",
   "execution_count": 12,
   "metadata": {},
   "outputs": [],
   "source": [
    "for each in country_list:\n",
    "    df_plot[each]=np.array(df_raw[df_raw['Country/Region']==each].iloc[:,4::].sum(axis=0))"
   ]
  },
  {
   "cell_type": "code",
   "execution_count": 13,
   "metadata": {},
   "outputs": [
    {
     "data": {
      "text/html": [
       "<div>\n",
       "<style scoped>\n",
       "    .dataframe tbody tr th:only-of-type {\n",
       "        vertical-align: middle;\n",
       "    }\n",
       "\n",
       "    .dataframe tbody tr th {\n",
       "        vertical-align: top;\n",
       "    }\n",
       "\n",
       "    .dataframe thead th {\n",
       "        text-align: right;\n",
       "    }\n",
       "</style>\n",
       "<table border=\"1\" class=\"dataframe\">\n",
       "  <thead>\n",
       "    <tr style=\"text-align: right;\">\n",
       "      <th></th>\n",
       "      <th>date</th>\n",
       "      <th>India</th>\n",
       "      <th>Germany</th>\n",
       "      <th>China</th>\n",
       "    </tr>\n",
       "  </thead>\n",
       "  <tbody>\n",
       "    <tr>\n",
       "      <th>0</th>\n",
       "      <td>1/22/20</td>\n",
       "      <td>0</td>\n",
       "      <td>0</td>\n",
       "      <td>548</td>\n",
       "    </tr>\n",
       "    <tr>\n",
       "      <th>1</th>\n",
       "      <td>1/23/20</td>\n",
       "      <td>0</td>\n",
       "      <td>0</td>\n",
       "      <td>643</td>\n",
       "    </tr>\n",
       "    <tr>\n",
       "      <th>2</th>\n",
       "      <td>1/24/20</td>\n",
       "      <td>0</td>\n",
       "      <td>0</td>\n",
       "      <td>920</td>\n",
       "    </tr>\n",
       "    <tr>\n",
       "      <th>3</th>\n",
       "      <td>1/25/20</td>\n",
       "      <td>0</td>\n",
       "      <td>0</td>\n",
       "      <td>1406</td>\n",
       "    </tr>\n",
       "    <tr>\n",
       "      <th>4</th>\n",
       "      <td>1/26/20</td>\n",
       "      <td>0</td>\n",
       "      <td>0</td>\n",
       "      <td>2075</td>\n",
       "    </tr>\n",
       "    <tr>\n",
       "      <th>...</th>\n",
       "      <td>...</td>\n",
       "      <td>...</td>\n",
       "      <td>...</td>\n",
       "      <td>...</td>\n",
       "    </tr>\n",
       "    <tr>\n",
       "      <th>881</th>\n",
       "      <td>6/21/22</td>\n",
       "      <td>43331645</td>\n",
       "      <td>27454225</td>\n",
       "      <td>2116897</td>\n",
       "    </tr>\n",
       "    <tr>\n",
       "      <th>882</th>\n",
       "      <td>6/22/22</td>\n",
       "      <td>43344958</td>\n",
       "      <td>27573585</td>\n",
       "      <td>2118491</td>\n",
       "    </tr>\n",
       "    <tr>\n",
       "      <th>883</th>\n",
       "      <td>6/23/22</td>\n",
       "      <td>43362294</td>\n",
       "      <td>27681775</td>\n",
       "      <td>2120269</td>\n",
       "    </tr>\n",
       "    <tr>\n",
       "      <th>884</th>\n",
       "      <td>6/24/22</td>\n",
       "      <td>43378234</td>\n",
       "      <td>27771111</td>\n",
       "      <td>2122283</td>\n",
       "    </tr>\n",
       "    <tr>\n",
       "      <th>885</th>\n",
       "      <td>6/25/22</td>\n",
       "      <td>43389973</td>\n",
       "      <td>27771112</td>\n",
       "      <td>2124209</td>\n",
       "    </tr>\n",
       "  </tbody>\n",
       "</table>\n",
       "<p>886 rows × 4 columns</p>\n",
       "</div>"
      ],
      "text/plain": [
       "        date     India   Germany    China\n",
       "0    1/22/20         0         0      548\n",
       "1    1/23/20         0         0      643\n",
       "2    1/24/20         0         0      920\n",
       "3    1/25/20         0         0     1406\n",
       "4    1/26/20         0         0     2075\n",
       "..       ...       ...       ...      ...\n",
       "881  6/21/22  43331645  27454225  2116897\n",
       "882  6/22/22  43344958  27573585  2118491\n",
       "883  6/23/22  43362294  27681775  2120269\n",
       "884  6/24/22  43378234  27771111  2122283\n",
       "885  6/25/22  43389973  27771112  2124209\n",
       "\n",
       "[886 rows x 4 columns]"
      ]
     },
     "execution_count": 13,
     "metadata": {},
     "output_type": "execute_result"
    }
   ],
   "source": [
    "df_plot"
   ]
  },
  {
   "cell_type": "code",
   "execution_count": 14,
   "metadata": {},
   "outputs": [
    {
     "data": {
      "text/plain": [
       "<AxesSubplot:xlabel='date'>"
      ]
     },
     "execution_count": 14,
     "metadata": {},
     "output_type": "execute_result"
    },
    {
     "data": {
      "image/png": "[encoded data removed]",
      "text/plain": [
       "<Figure size 432x288 with 1 Axes>"
      ]
     },
     "metadata": {
      "needs_background": "light"
     },
     "output_type": "display_data"
    }
   ],
   "source": [
    "%matplotlib inline\n",
    "df_plot.set_index('date').plot()"
   ]
  },
  {
   "cell_type": "code",
   "execution_count": 15,
   "metadata": {},
   "outputs": [],
   "source": [
    "time_idx=[datetime.strptime(each,\"%m/%d/%y\")for each in df_plot.date]\n",
    "ime_str=[each.strftime('%Y-%m-%d') for each in time_idx]"
   ]
  },
  {
   "cell_type": "code",
   "execution_count": 16,
   "metadata": {},
   "outputs": [],
   "source": [
    "df_plot['date']=time_idx"
   ]
  },
  {
   "cell_type": "code",
   "execution_count": 17,
   "metadata": {},
   "outputs": [],
   "source": [
    "df_plot.to_csv('../Task01/Outputs/COVID_small_flat_table.csv',sep=';')"
   ]
  },
  {
   "cell_type": "code",
   "execution_count": 18,
   "metadata": {},
   "outputs": [],
   "source": [
    "df_data_base = df_raw.rename(columns={'Country/Region':'country','Province/State':'state'})"
   ]
  },
  {
   "cell_type": "code",
   "execution_count": 19,
   "metadata": {},
   "outputs": [
    {
     "data": {
      "text/html": [
       "<div>\n",
       "<style scoped>\n",
       "    .dataframe tbody tr th:only-of-type {\n",
       "        vertical-align: middle;\n",
       "    }\n",
       "\n",
       "    .dataframe tbody tr th {\n",
       "        vertical-align: top;\n",
       "    }\n",
       "\n",
       "    .dataframe thead th {\n",
       "        text-align: right;\n",
       "    }\n",
       "</style>\n",
       "<table border=\"1\" class=\"dataframe\">\n",
       "  <thead>\n",
       "    <tr style=\"text-align: right;\">\n",
       "      <th></th>\n",
       "      <th>state</th>\n",
       "      <th>country</th>\n",
       "      <th>1/22/20</th>\n",
       "      <th>1/23/20</th>\n",
       "      <th>1/24/20</th>\n",
       "      <th>1/25/20</th>\n",
       "      <th>1/26/20</th>\n",
       "      <th>1/27/20</th>\n",
       "      <th>1/28/20</th>\n",
       "      <th>1/29/20</th>\n",
       "      <th>...</th>\n",
       "      <th>6/16/22</th>\n",
       "      <th>6/17/22</th>\n",
       "      <th>6/18/22</th>\n",
       "      <th>6/19/22</th>\n",
       "      <th>6/20/22</th>\n",
       "      <th>6/21/22</th>\n",
       "      <th>6/22/22</th>\n",
       "      <th>6/23/22</th>\n",
       "      <th>6/24/22</th>\n",
       "      <th>6/25/22</th>\n",
       "    </tr>\n",
       "  </thead>\n",
       "  <tbody>\n",
       "    <tr>\n",
       "      <th>0</th>\n",
       "      <td>NaN</td>\n",
       "      <td>Afghanistan</td>\n",
       "      <td>0</td>\n",
       "      <td>0</td>\n",
       "      <td>0</td>\n",
       "      <td>0</td>\n",
       "      <td>0</td>\n",
       "      <td>0</td>\n",
       "      <td>0</td>\n",
       "      <td>0</td>\n",
       "      <td>...</td>\n",
       "      <td>181465</td>\n",
       "      <td>181534</td>\n",
       "      <td>181574</td>\n",
       "      <td>181666</td>\n",
       "      <td>181725</td>\n",
       "      <td>181808</td>\n",
       "      <td>181912</td>\n",
       "      <td>181987</td>\n",
       "      <td>182033</td>\n",
       "      <td>182072</td>\n",
       "    </tr>\n",
       "    <tr>\n",
       "      <th>1</th>\n",
       "      <td>NaN</td>\n",
       "      <td>Albania</td>\n",
       "      <td>0</td>\n",
       "      <td>0</td>\n",
       "      <td>0</td>\n",
       "      <td>0</td>\n",
       "      <td>0</td>\n",
       "      <td>0</td>\n",
       "      <td>0</td>\n",
       "      <td>0</td>\n",
       "      <td>...</td>\n",
       "      <td>276821</td>\n",
       "      <td>277141</td>\n",
       "      <td>277141</td>\n",
       "      <td>277409</td>\n",
       "      <td>277444</td>\n",
       "      <td>277663</td>\n",
       "      <td>277940</td>\n",
       "      <td>278211</td>\n",
       "      <td>278504</td>\n",
       "      <td>278793</td>\n",
       "    </tr>\n",
       "    <tr>\n",
       "      <th>2</th>\n",
       "      <td>NaN</td>\n",
       "      <td>Algeria</td>\n",
       "      <td>0</td>\n",
       "      <td>0</td>\n",
       "      <td>0</td>\n",
       "      <td>0</td>\n",
       "      <td>0</td>\n",
       "      <td>0</td>\n",
       "      <td>0</td>\n",
       "      <td>0</td>\n",
       "      <td>...</td>\n",
       "      <td>265964</td>\n",
       "      <td>265968</td>\n",
       "      <td>265971</td>\n",
       "      <td>265975</td>\n",
       "      <td>265985</td>\n",
       "      <td>265993</td>\n",
       "      <td>266006</td>\n",
       "      <td>266015</td>\n",
       "      <td>266025</td>\n",
       "      <td>266030</td>\n",
       "    </tr>\n",
       "    <tr>\n",
       "      <th>3</th>\n",
       "      <td>NaN</td>\n",
       "      <td>Andorra</td>\n",
       "      <td>0</td>\n",
       "      <td>0</td>\n",
       "      <td>0</td>\n",
       "      <td>0</td>\n",
       "      <td>0</td>\n",
       "      <td>0</td>\n",
       "      <td>0</td>\n",
       "      <td>0</td>\n",
       "      <td>...</td>\n",
       "      <td>43449</td>\n",
       "      <td>43449</td>\n",
       "      <td>43449</td>\n",
       "      <td>43449</td>\n",
       "      <td>43449</td>\n",
       "      <td>43449</td>\n",
       "      <td>43774</td>\n",
       "      <td>43774</td>\n",
       "      <td>43774</td>\n",
       "      <td>43774</td>\n",
       "    </tr>\n",
       "    <tr>\n",
       "      <th>4</th>\n",
       "      <td>NaN</td>\n",
       "      <td>Angola</td>\n",
       "      <td>0</td>\n",
       "      <td>0</td>\n",
       "      <td>0</td>\n",
       "      <td>0</td>\n",
       "      <td>0</td>\n",
       "      <td>0</td>\n",
       "      <td>0</td>\n",
       "      <td>0</td>\n",
       "      <td>...</td>\n",
       "      <td>99761</td>\n",
       "      <td>99761</td>\n",
       "      <td>99761</td>\n",
       "      <td>99761</td>\n",
       "      <td>99761</td>\n",
       "      <td>99761</td>\n",
       "      <td>99761</td>\n",
       "      <td>99761</td>\n",
       "      <td>99761</td>\n",
       "      <td>99761</td>\n",
       "    </tr>\n",
       "  </tbody>\n",
       "</table>\n",
       "<p>5 rows × 888 columns</p>\n",
       "</div>"
      ],
      "text/plain": [
       "  state      country  1/22/20  1/23/20  1/24/20  1/25/20  1/26/20  1/27/20  \\\n",
       "0   NaN  Afghanistan        0        0        0        0        0        0   \n",
       "1   NaN      Albania        0        0        0        0        0        0   \n",
       "2   NaN      Algeria        0        0        0        0        0        0   \n",
       "3   NaN      Andorra        0        0        0        0        0        0   \n",
       "4   NaN       Angola        0        0        0        0        0        0   \n",
       "\n",
       "   1/28/20  1/29/20  ...  6/16/22  6/17/22  6/18/22  6/19/22  6/20/22  \\\n",
       "0        0        0  ...   181465   181534   181574   181666   181725   \n",
       "1        0        0  ...   276821   277141   277141   277409   277444   \n",
       "2        0        0  ...   265964   265968   265971   265975   265985   \n",
       "3        0        0  ...    43449    43449    43449    43449    43449   \n",
       "4        0        0  ...    99761    99761    99761    99761    99761   \n",
       "\n",
       "   6/21/22  6/22/22  6/23/22  6/24/22  6/25/22  \n",
       "0   181808   181912   181987   182033   182072  \n",
       "1   277663   277940   278211   278504   278793  \n",
       "2   265993   266006   266015   266025   266030  \n",
       "3    43449    43774    43774    43774    43774  \n",
       "4    99761    99761    99761    99761    99761  \n",
       "\n",
       "[5 rows x 888 columns]"
      ]
     },
     "execution_count": 19,
     "metadata": {},
     "output_type": "execute_result"
    }
   ],
   "source": [
    "df_data_base=df_data_base.drop(['Lat','Long'],axis=1)\n",
    "df_data_base.head()"
   ]
  },
  {
   "cell_type": "code",
   "execution_count": 20,
   "metadata": {},
   "outputs": [
    {
     "data": {
      "text/plain": [
       "MultiIndex([(                           nan,          'Afghanistan'),\n",
       "            (                           nan,              'Albania'),\n",
       "            (                           nan,              'Algeria'),\n",
       "            (                           nan,              'Andorra'),\n",
       "            (                           nan,               'Angola'),\n",
       "            (                           nan,           'Antarctica'),\n",
       "            (                           nan,  'Antigua and Barbuda'),\n",
       "            (                           nan,            'Argentina'),\n",
       "            (                           nan,              'Armenia'),\n",
       "            ('Australian Capital Territory',            'Australia'),\n",
       "            ...\n",
       "            (                           nan,              'Uruguay'),\n",
       "            (                           nan,           'Uzbekistan'),\n",
       "            (                           nan,              'Vanuatu'),\n",
       "            (                           nan,            'Venezuela'),\n",
       "            (                           nan,              'Vietnam'),\n",
       "            (                           nan,   'West Bank and Gaza'),\n",
       "            (                           nan, 'Winter Olympics 2022'),\n",
       "            (                           nan,                'Yemen'),\n",
       "            (                           nan,               'Zambia'),\n",
       "            (                           nan,             'Zimbabwe')],\n",
       "           names=['state', 'country'], length=285)"
      ]
     },
     "execution_count": 20,
     "metadata": {},
     "output_type": "execute_result"
    }
   ],
   "source": [
    "test_df= df_data_base.set_index(['state','country']).T\n",
    "test_df.columns"
   ]
  },
  {
   "cell_type": "code",
   "execution_count": 21,
   "metadata": {},
   "outputs": [
    {
     "data": {
      "text/plain": [
       "         state     country             \n",
       "1/22/20  NaN       Afghanistan                  0.0\n",
       "                   Albania                      0.0\n",
       "                   Algeria                      0.0\n",
       "                   Andorra                      0.0\n",
       "                   Angola                       0.0\n",
       "                                             ...   \n",
       "6/25/22  Zhejiang  West Bank and Gaza      658503.0\n",
       "                   Winter Olympics 2022       535.0\n",
       "                   Yemen                    11824.0\n",
       "                   Zambia                  325110.0\n",
       "                   Zimbabwe                255309.0\n",
       "Length: 427052, dtype: float64"
      ]
     },
     "execution_count": 21,
     "metadata": {},
     "output_type": "execute_result"
    }
   ],
   "source": [
    "test_df.stack(level=[0,1])"
   ]
  },
  {
   "cell_type": "code",
   "execution_count": 22,
   "metadata": {},
   "outputs": [
    {
     "data": {
      "text/html": [
       "<div>\n",
       "<style scoped>\n",
       "    .dataframe tbody tr th:only-of-type {\n",
       "        vertical-align: middle;\n",
       "    }\n",
       "\n",
       "    .dataframe tbody tr th {\n",
       "        vertical-align: top;\n",
       "    }\n",
       "\n",
       "    .dataframe thead th {\n",
       "        text-align: right;\n",
       "    }\n",
       "</style>\n",
       "<table border=\"1\" class=\"dataframe\">\n",
       "  <thead>\n",
       "    <tr style=\"text-align: right;\">\n",
       "      <th></th>\n",
       "      <th>date</th>\n",
       "      <th>India</th>\n",
       "      <th>Germany</th>\n",
       "      <th>China</th>\n",
       "    </tr>\n",
       "  </thead>\n",
       "  <tbody>\n",
       "    <tr>\n",
       "      <th>0</th>\n",
       "      <td>2020-01-22</td>\n",
       "      <td>0</td>\n",
       "      <td>0</td>\n",
       "      <td>548</td>\n",
       "    </tr>\n",
       "    <tr>\n",
       "      <th>1</th>\n",
       "      <td>2020-01-23</td>\n",
       "      <td>0</td>\n",
       "      <td>0</td>\n",
       "      <td>643</td>\n",
       "    </tr>\n",
       "    <tr>\n",
       "      <th>2</th>\n",
       "      <td>2020-01-24</td>\n",
       "      <td>0</td>\n",
       "      <td>0</td>\n",
       "      <td>920</td>\n",
       "    </tr>\n",
       "    <tr>\n",
       "      <th>3</th>\n",
       "      <td>2020-01-25</td>\n",
       "      <td>0</td>\n",
       "      <td>0</td>\n",
       "      <td>1406</td>\n",
       "    </tr>\n",
       "    <tr>\n",
       "      <th>4</th>\n",
       "      <td>2020-01-26</td>\n",
       "      <td>0</td>\n",
       "      <td>0</td>\n",
       "      <td>2075</td>\n",
       "    </tr>\n",
       "  </tbody>\n",
       "</table>\n",
       "</div>"
      ],
      "text/plain": [
       "        date  India  Germany  China\n",
       "0 2020-01-22      0        0    548\n",
       "1 2020-01-23      0        0    643\n",
       "2 2020-01-24      0        0    920\n",
       "3 2020-01-25      0        0   1406\n",
       "4 2020-01-26      0        0   2075"
      ]
     },
     "execution_count": 22,
     "metadata": {},
     "output_type": "execute_result"
    }
   ],
   "source": [
    "df_plot.head()"
   ]
  },
  {
   "cell_type": "code",
   "execution_count": 23,
   "metadata": {},
   "outputs": [
    {
     "data": {
      "text/plain": [
       "<Figure size 432x288 with 0 Axes>"
      ]
     },
     "metadata": {},
     "output_type": "display_data"
    },
    {
     "data": {
      "image/png": "[encoded data removed]",
      "text/plain": [
       "<Figure size 432x288 with 1 Axes>"
      ]
     },
     "metadata": {
      "needs_background": "light"
     },
     "output_type": "display_data"
    }
   ],
   "source": [
    "\n",
    "plt.figure();\n",
    "ax = df_plot.iloc[15:,:].set_index('date').plot()\n",
    "plt.ylim(10,30000)\n",
    "ax.set_yscale('log')\n"
   ]
  },
  {
   "cell_type": "markdown",
   "metadata": {},
   "source": [
    "# Step 4 : Plotting of data over new tab with enhanced features"
   ]
  },
  {
   "cell_type": "code",
   "execution_count": 24,
   "metadata": {},
   "outputs": [],
   "source": [
    "import plotly.io as pio\n",
    "pio.renderers.default = 'browser'"
   ]
  },
  {
   "cell_type": "code",
   "execution_count": 25,
   "metadata": {},
   "outputs": [
    {
     "data": {
      "text/plain": [
       "Renderers configuration\n",
       "-----------------------\n",
       "    Default renderer: 'browser'\n",
       "    Available renderers:\n",
       "        ['plotly_mimetype', 'jupyterlab', 'nteract', 'vscode',\n",
       "         'notebook', 'notebook_connected', 'kaggle', 'azure', 'colab',\n",
       "         'cocalc', 'databricks', 'json', 'png', 'jpeg', 'jpg', 'svg',\n",
       "         'pdf', 'browser', 'firefox', 'chrome', 'chromium', 'iframe',\n",
       "         'iframe_connected', 'sphinx_gallery', 'sphinx_gallery_png']"
      ]
     },
     "execution_count": 25,
     "metadata": {},
     "output_type": "execute_result"
    }
   ],
   "source": [
    "pio.renderers"
   ]
  },
  {
   "cell_type": "code",
   "execution_count": 26,
   "metadata": {},
   "outputs": [],
   "source": [
    "fig= go.Figure()\n",
    "for each in country_list:\n",
    "    fig.add_trace(go.Scatter(x=df_plot.date,\n",
    "                             y=df_plot[each],\n",
    "                             mode=\"markers+lines\",\n",
    "                             opacity=0.8,\n",
    "                             line_width=2,\n",
    "                             marker_size=4,\n",
    "                             name=each))\n",
    "fig.update_layout(\n",
    "    width=1600,\n",
    "    height=1200,\n",
    "xaxis_title=\"Time\",\n",
    "yaxis_title=\"Confirmed infected people (source: johns hopkins csse, log-scale)\"\n",
    ")\n",
    "fig.update_yaxes(type=\"log\",range=[1.1,5.5])\n",
    "fig.update_layout(xaxis_rangeslider_visible=True)\n",
    "fig.show(renderer='browser')"
   ]
  },
  {
   "cell_type": "code",
   "execution_count": 27,
   "metadata": {},
   "outputs": [],
   "source": [
    "app=dash.Dash()\n",
    "app.layout=html.Div([\n",
    "    html.Label('Multi-Select Country'),\n",
    "    dcc.Dropdown(\n",
    "    id='country_drop_down',\n",
    "    options=[\n",
    "        {'label':'India','value':'India'},\n",
    "        {'label':'Germay','value':'Germany'},\n",
    "        {'label':'China','value':'China'}\n",
    "    ],\n",
    "    value=['Germany'],\n",
    "    multi=True\n",
    "    ),\n",
    "    dcc.Graph(figure=fig,id='main_window_slope')\n",
    "])"
   ]
  },
  {
   "cell_type": "code",
   "execution_count": 28,
   "metadata": {},
   "outputs": [],
   "source": [
    "from dash.dependencies import Input,Output\n",
    "\n",
    "@app.callback(\n",
    "    Output('main_window_slope','figure'),\n",
    "    [Input('country_drop_down','value')])\n",
    "def update_figure(country_list):\n",
    "    traces=[]\n",
    "    for each in country_list:\n",
    "        traces.append(dict(x=df_plot.date,\n",
    "                          y=df_plot[each],\n",
    "                          mode='markers+lines',\n",
    "                          opacity=0.8,\n",
    "                          line_width=2,\n",
    "                          marker_size=4,\n",
    "                          name=each\n",
    "                          ))\n",
    "    \n",
    "    return{\n",
    "        'data':traces,\n",
    "        'layout':dict(\n",
    "             width=1280,\n",
    "             height=720,\n",
    "             xaxis_title=\"Time\",\n",
    "             yaxis_title=\"Confirmed infected people (source: Johns hopkins csse, log-scale)\",\n",
    "            xaxis={'tickangle':-45,\n",
    "                   'nticks':20,\n",
    "                   'tickfont':dict(size=14,color=\"#7f7f7f\"),\n",
    "            },\n",
    "            yaxis={'type':'log',\n",
    "                   'range':'[1.1,5.5]'\n",
    "                \n",
    "            }\n",
    "        )\n",
    "    }"
   ]
  },
  {
   "cell_type": "markdown",
   "metadata": {},
   "source": [
    "# Click on the below URL to see the final plot for Absolut Covid Cases over time."
   ]
  },
  {
   "cell_type": "code",
   "execution_count": null,
   "metadata": {},
   "outputs": [
    {
     "name": "stdout",
     "output_type": "stream",
     "text": [
      "Dash is running on http://127.0.0.1:8050/\n",
      "\n",
      " * Serving Flask app \"__main__\" (lazy loading)\n",
      " * Environment: production\n",
      "\u001b[31m   WARNING: This is a development server. Do not use it in a production deployment.\u001b[0m\n",
      "\u001b[2m   Use a production WSGI server instead.\u001b[0m\n",
      " * Debug mode: on\n"
     ]
    }
   ],
   "source": [
    "app.run_server(debug=True,use_reloader=False)"
   ]
  },
  {
   "cell_type": "code",
   "execution_count": null,
   "metadata": {},
   "outputs": [],
   "source": []
  }
 ],
 "metadata": {
  "kernelspec": {
   "display_name": "Python 3",
   "language": "python",
   "name": "python3"
  },
  "language_info": {
   "codemirror_mode": {
    "name": "ipython",
    "version": 3
   },
   "file_extension": ".py",
   "mimetype": "text/x-python",
   "name": "python",
   "nbconvert_exporter": "python",
   "pygments_lexer": "ipython3",
   "version": "3.8.5"
  }
 },
 "nbformat": 4,
 "nbformat_minor": 4
}
